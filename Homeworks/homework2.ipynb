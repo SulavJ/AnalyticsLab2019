{
 "cells": [
  {
   "cell_type": "markdown",
   "metadata": {},
   "source": [
    "### Homework II \n",
    "Not graded, just a warm up"
   ]
  },
  {
   "cell_type": "code",
   "execution_count": 2,
   "metadata": {},
   "outputs": [],
   "source": [
    "import numpy as np\n",
    "import matplotlib.pyplot as plt\n",
    "import pandas"
   ]
  },
  {
   "cell_type": "markdown",
   "metadata": {},
   "source": [
    "### Tasks\n",
    "\n",
    "1. Bronte sisters versus HG Wells:\n",
    "    * Explain the outlying (in terms of the hierarchical clustering) novel *Wuthering Heights* with the tfidf matrix\n",
    "    * Redo the clustering using Jaccard-distance\n",
    "    * Imagine a vandal has torn the books into individual chapters, and left them in one large pile. How can we restore these disorganized chapters to their original books? This is a challenging problem since the individual chapters are unlabeled: we don’t know what words might distinguish them into groups. \n",
    "        1. Partition the Bronte/Wells novels into their chapters (regular expressions)\n",
    "        2. Cluster the chapters into various number of groups and measure the association between author and cluster membership.\n",
    "2. Spell Checker\n",
    "    * The approach we took in class was maybe \"wasteful\": we first expand the word into a large set of *candidates* only to eliminate most of them immediately by comparing to a large corpus of existing words. Can you think of another approach and which one do you believe would be computationally cheaper?\n",
    "    * Peter Norvig generously provides code and data for the spell checker on his Web site (http://norvig.com/ngrams/).  How would you incorporate the probabilities of single-edit transitions which are given in the file *count_1edit.txt* ? Write pseudo code or a version of Bayes theorem which fits this situation. \n",
    "    * Think about the ever finer granularity that a \"great algorithm\" needs to model, such as dependency on user, device, language, keyboard layout, etc.."
   ]
  },
  {
   "cell_type": "code",
   "execution_count": null,
   "metadata": {},
   "outputs": [],
   "source": []
  }
 ],
 "metadata": {
  "kernelspec": {
   "display_name": "Python 3",
   "language": "python",
   "name": "python3"
  },
  "language_info": {
   "codemirror_mode": {
    "name": "ipython",
    "version": 3
   },
   "file_extension": ".py",
   "mimetype": "text/x-python",
   "name": "python",
   "nbconvert_exporter": "python",
   "pygments_lexer": "ipython3",
   "version": "3.6.4"
  }
 },
 "nbformat": 4,
 "nbformat_minor": 2
}
